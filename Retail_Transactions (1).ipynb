{
  "nbformat": 4,
  "nbformat_minor": 0,
  "metadata": {
    "colab": {
      "provenance": []
    },
    "kernelspec": {
      "name": "python3",
      "display_name": "Python 3"
    },
    "language_info": {
      "name": "python"
    }
  },
  "cells": [
    {
      "cell_type": "code",
      "execution_count": null,
      "metadata": {
        "id": "2LdRpx9tLsHX"
      },
      "outputs": [],
      "source": [
        "# importing necessary libraries\n",
        "import pandas as pd\n",
        "import matplotlib.pyplot as plt\n",
        "import seaborn as sns\n",
        "from datetime import datetime"
      ]
    },
    {
      "cell_type": "code",
      "source": [
        "# importing csv file\n",
        "df=pd.read_csv('Retail_Transaction_Dataset.csv')\n",
        "df.head()"
      ],
      "metadata": {
        "id": "dbv8xmpjL8SZ",
        "colab": {
          "base_uri": "https://localhost:8080/",
          "height": 293
        },
        "outputId": "e0606a1e-4a20-4358-f2da-36e82fe56561"
      },
      "execution_count": null,
      "outputs": [
        {
          "output_type": "execute_result",
          "data": {
            "text/plain": [
              "   CustomerID ProductID  Quantity      Price   TransactionDate PaymentMethod  \\\n",
              "0      109318         C         7  80.079844  12/26/2023 12:32          Cash   \n",
              "1      993229         C         4  75.195229     8/5/2023 0:00          Cash   \n",
              "2      579675         A         8  31.528816   3/11/2024 18:51          Cash   \n",
              "3      799826         D         5  98.880218  10/27/2023 22:00        PayPal   \n",
              "4      121413         A         7  93.188512  12/22/2023 11:38          Cash   \n",
              "\n",
              "                                       StoreLocation ProductCategory  \\\n",
              "0            176 Andrew Cliffs\\nBaileyfort, HI 93354           Books   \n",
              "1  11635 William Well Suite 809\\nEast Kara, MT 19483      Home Decor   \n",
              "2  910 Mendez Ville Suite 909\\nPort Lauraland, MO...           Books   \n",
              "3  87522 Sharon Corners Suite 500\\nLake Tammy, MO...           Books   \n",
              "4   0070 Michelle Island Suite 143\\nHoland, VA 80142     Electronics   \n",
              "\n",
              "   DiscountApplied(%)  TotalAmount  \n",
              "0           18.677100   455.862764  \n",
              "1           14.121365   258.306546  \n",
              "2           15.943701   212.015651  \n",
              "3            6.686337   461.343769  \n",
              "4            4.030096   626.030484  "
            ],
            "text/html": [
              "\n",
              "  <div id=\"df-29f49993-c82b-484d-ab5f-9f60afd10809\" class=\"colab-df-container\">\n",
              "    <div>\n",
              "<style scoped>\n",
              "    .dataframe tbody tr th:only-of-type {\n",
              "        vertical-align: middle;\n",
              "    }\n",
              "\n",
              "    .dataframe tbody tr th {\n",
              "        vertical-align: top;\n",
              "    }\n",
              "\n",
              "    .dataframe thead th {\n",
              "        text-align: right;\n",
              "    }\n",
              "</style>\n",
              "<table border=\"1\" class=\"dataframe\">\n",
              "  <thead>\n",
              "    <tr style=\"text-align: right;\">\n",
              "      <th></th>\n",
              "      <th>CustomerID</th>\n",
              "      <th>ProductID</th>\n",
              "      <th>Quantity</th>\n",
              "      <th>Price</th>\n",
              "      <th>TransactionDate</th>\n",
              "      <th>PaymentMethod</th>\n",
              "      <th>StoreLocation</th>\n",
              "      <th>ProductCategory</th>\n",
              "      <th>DiscountApplied(%)</th>\n",
              "      <th>TotalAmount</th>\n",
              "    </tr>\n",
              "  </thead>\n",
              "  <tbody>\n",
              "    <tr>\n",
              "      <th>0</th>\n",
              "      <td>109318</td>\n",
              "      <td>C</td>\n",
              "      <td>7</td>\n",
              "      <td>80.079844</td>\n",
              "      <td>12/26/2023 12:32</td>\n",
              "      <td>Cash</td>\n",
              "      <td>176 Andrew Cliffs\\nBaileyfort, HI 93354</td>\n",
              "      <td>Books</td>\n",
              "      <td>18.677100</td>\n",
              "      <td>455.862764</td>\n",
              "    </tr>\n",
              "    <tr>\n",
              "      <th>1</th>\n",
              "      <td>993229</td>\n",
              "      <td>C</td>\n",
              "      <td>4</td>\n",
              "      <td>75.195229</td>\n",
              "      <td>8/5/2023 0:00</td>\n",
              "      <td>Cash</td>\n",
              "      <td>11635 William Well Suite 809\\nEast Kara, MT 19483</td>\n",
              "      <td>Home Decor</td>\n",
              "      <td>14.121365</td>\n",
              "      <td>258.306546</td>\n",
              "    </tr>\n",
              "    <tr>\n",
              "      <th>2</th>\n",
              "      <td>579675</td>\n",
              "      <td>A</td>\n",
              "      <td>8</td>\n",
              "      <td>31.528816</td>\n",
              "      <td>3/11/2024 18:51</td>\n",
              "      <td>Cash</td>\n",
              "      <td>910 Mendez Ville Suite 909\\nPort Lauraland, MO...</td>\n",
              "      <td>Books</td>\n",
              "      <td>15.943701</td>\n",
              "      <td>212.015651</td>\n",
              "    </tr>\n",
              "    <tr>\n",
              "      <th>3</th>\n",
              "      <td>799826</td>\n",
              "      <td>D</td>\n",
              "      <td>5</td>\n",
              "      <td>98.880218</td>\n",
              "      <td>10/27/2023 22:00</td>\n",
              "      <td>PayPal</td>\n",
              "      <td>87522 Sharon Corners Suite 500\\nLake Tammy, MO...</td>\n",
              "      <td>Books</td>\n",
              "      <td>6.686337</td>\n",
              "      <td>461.343769</td>\n",
              "    </tr>\n",
              "    <tr>\n",
              "      <th>4</th>\n",
              "      <td>121413</td>\n",
              "      <td>A</td>\n",
              "      <td>7</td>\n",
              "      <td>93.188512</td>\n",
              "      <td>12/22/2023 11:38</td>\n",
              "      <td>Cash</td>\n",
              "      <td>0070 Michelle Island Suite 143\\nHoland, VA 80142</td>\n",
              "      <td>Electronics</td>\n",
              "      <td>4.030096</td>\n",
              "      <td>626.030484</td>\n",
              "    </tr>\n",
              "  </tbody>\n",
              "</table>\n",
              "</div>\n",
              "    <div class=\"colab-df-buttons\">\n",
              "\n",
              "  <div class=\"colab-df-container\">\n",
              "    <button class=\"colab-df-convert\" onclick=\"convertToInteractive('df-29f49993-c82b-484d-ab5f-9f60afd10809')\"\n",
              "            title=\"Convert this dataframe to an interactive table.\"\n",
              "            style=\"display:none;\">\n",
              "\n",
              "  <svg xmlns=\"http://www.w3.org/2000/svg\" height=\"24px\" viewBox=\"0 -960 960 960\">\n",
              "    <path d=\"M120-120v-720h720v720H120Zm60-500h600v-160H180v160Zm220 220h160v-160H400v160Zm0 220h160v-160H400v160ZM180-400h160v-160H180v160Zm440 0h160v-160H620v160ZM180-180h160v-160H180v160Zm440 0h160v-160H620v160Z\"/>\n",
              "  </svg>\n",
              "    </button>\n",
              "\n",
              "  <style>\n",
              "    .colab-df-container {\n",
              "      display:flex;\n",
              "      gap: 12px;\n",
              "    }\n",
              "\n",
              "    .colab-df-convert {\n",
              "      background-color: #E8F0FE;\n",
              "      border: none;\n",
              "      border-radius: 50%;\n",
              "      cursor: pointer;\n",
              "      display: none;\n",
              "      fill: #1967D2;\n",
              "      height: 32px;\n",
              "      padding: 0 0 0 0;\n",
              "      width: 32px;\n",
              "    }\n",
              "\n",
              "    .colab-df-convert:hover {\n",
              "      background-color: #E2EBFA;\n",
              "      box-shadow: 0px 1px 2px rgba(60, 64, 67, 0.3), 0px 1px 3px 1px rgba(60, 64, 67, 0.15);\n",
              "      fill: #174EA6;\n",
              "    }\n",
              "\n",
              "    .colab-df-buttons div {\n",
              "      margin-bottom: 4px;\n",
              "    }\n",
              "\n",
              "    [theme=dark] .colab-df-convert {\n",
              "      background-color: #3B4455;\n",
              "      fill: #D2E3FC;\n",
              "    }\n",
              "\n",
              "    [theme=dark] .colab-df-convert:hover {\n",
              "      background-color: #434B5C;\n",
              "      box-shadow: 0px 1px 3px 1px rgba(0, 0, 0, 0.15);\n",
              "      filter: drop-shadow(0px 1px 2px rgba(0, 0, 0, 0.3));\n",
              "      fill: #FFFFFF;\n",
              "    }\n",
              "  </style>\n",
              "\n",
              "    <script>\n",
              "      const buttonEl =\n",
              "        document.querySelector('#df-29f49993-c82b-484d-ab5f-9f60afd10809 button.colab-df-convert');\n",
              "      buttonEl.style.display =\n",
              "        google.colab.kernel.accessAllowed ? 'block' : 'none';\n",
              "\n",
              "      async function convertToInteractive(key) {\n",
              "        const element = document.querySelector('#df-29f49993-c82b-484d-ab5f-9f60afd10809');\n",
              "        const dataTable =\n",
              "          await google.colab.kernel.invokeFunction('convertToInteractive',\n",
              "                                                    [key], {});\n",
              "        if (!dataTable) return;\n",
              "\n",
              "        const docLinkHtml = 'Like what you see? Visit the ' +\n",
              "          '<a target=\"_blank\" href=https://colab.research.google.com/notebooks/data_table.ipynb>data table notebook</a>'\n",
              "          + ' to learn more about interactive tables.';\n",
              "        element.innerHTML = '';\n",
              "        dataTable['output_type'] = 'display_data';\n",
              "        await google.colab.output.renderOutput(dataTable, element);\n",
              "        const docLink = document.createElement('div');\n",
              "        docLink.innerHTML = docLinkHtml;\n",
              "        element.appendChild(docLink);\n",
              "      }\n",
              "    </script>\n",
              "  </div>\n",
              "\n",
              "\n",
              "    <div id=\"df-7af3556e-d3b9-4a4e-86b7-4683a273d401\">\n",
              "      <button class=\"colab-df-quickchart\" onclick=\"quickchart('df-7af3556e-d3b9-4a4e-86b7-4683a273d401')\"\n",
              "                title=\"Suggest charts\"\n",
              "                style=\"display:none;\">\n",
              "\n",
              "<svg xmlns=\"http://www.w3.org/2000/svg\" height=\"24px\"viewBox=\"0 0 24 24\"\n",
              "     width=\"24px\">\n",
              "    <g>\n",
              "        <path d=\"M19 3H5c-1.1 0-2 .9-2 2v14c0 1.1.9 2 2 2h14c1.1 0 2-.9 2-2V5c0-1.1-.9-2-2-2zM9 17H7v-7h2v7zm4 0h-2V7h2v10zm4 0h-2v-4h2v4z\"/>\n",
              "    </g>\n",
              "</svg>\n",
              "      </button>\n",
              "\n",
              "<style>\n",
              "  .colab-df-quickchart {\n",
              "      --bg-color: #E8F0FE;\n",
              "      --fill-color: #1967D2;\n",
              "      --hover-bg-color: #E2EBFA;\n",
              "      --hover-fill-color: #174EA6;\n",
              "      --disabled-fill-color: #AAA;\n",
              "      --disabled-bg-color: #DDD;\n",
              "  }\n",
              "\n",
              "  [theme=dark] .colab-df-quickchart {\n",
              "      --bg-color: #3B4455;\n",
              "      --fill-color: #D2E3FC;\n",
              "      --hover-bg-color: #434B5C;\n",
              "      --hover-fill-color: #FFFFFF;\n",
              "      --disabled-bg-color: #3B4455;\n",
              "      --disabled-fill-color: #666;\n",
              "  }\n",
              "\n",
              "  .colab-df-quickchart {\n",
              "    background-color: var(--bg-color);\n",
              "    border: none;\n",
              "    border-radius: 50%;\n",
              "    cursor: pointer;\n",
              "    display: none;\n",
              "    fill: var(--fill-color);\n",
              "    height: 32px;\n",
              "    padding: 0;\n",
              "    width: 32px;\n",
              "  }\n",
              "\n",
              "  .colab-df-quickchart:hover {\n",
              "    background-color: var(--hover-bg-color);\n",
              "    box-shadow: 0 1px 2px rgba(60, 64, 67, 0.3), 0 1px 3px 1px rgba(60, 64, 67, 0.15);\n",
              "    fill: var(--button-hover-fill-color);\n",
              "  }\n",
              "\n",
              "  .colab-df-quickchart-complete:disabled,\n",
              "  .colab-df-quickchart-complete:disabled:hover {\n",
              "    background-color: var(--disabled-bg-color);\n",
              "    fill: var(--disabled-fill-color);\n",
              "    box-shadow: none;\n",
              "  }\n",
              "\n",
              "  .colab-df-spinner {\n",
              "    border: 2px solid var(--fill-color);\n",
              "    border-color: transparent;\n",
              "    border-bottom-color: var(--fill-color);\n",
              "    animation:\n",
              "      spin 1s steps(1) infinite;\n",
              "  }\n",
              "\n",
              "  @keyframes spin {\n",
              "    0% {\n",
              "      border-color: transparent;\n",
              "      border-bottom-color: var(--fill-color);\n",
              "      border-left-color: var(--fill-color);\n",
              "    }\n",
              "    20% {\n",
              "      border-color: transparent;\n",
              "      border-left-color: var(--fill-color);\n",
              "      border-top-color: var(--fill-color);\n",
              "    }\n",
              "    30% {\n",
              "      border-color: transparent;\n",
              "      border-left-color: var(--fill-color);\n",
              "      border-top-color: var(--fill-color);\n",
              "      border-right-color: var(--fill-color);\n",
              "    }\n",
              "    40% {\n",
              "      border-color: transparent;\n",
              "      border-right-color: var(--fill-color);\n",
              "      border-top-color: var(--fill-color);\n",
              "    }\n",
              "    60% {\n",
              "      border-color: transparent;\n",
              "      border-right-color: var(--fill-color);\n",
              "    }\n",
              "    80% {\n",
              "      border-color: transparent;\n",
              "      border-right-color: var(--fill-color);\n",
              "      border-bottom-color: var(--fill-color);\n",
              "    }\n",
              "    90% {\n",
              "      border-color: transparent;\n",
              "      border-bottom-color: var(--fill-color);\n",
              "    }\n",
              "  }\n",
              "</style>\n",
              "\n",
              "      <script>\n",
              "        async function quickchart(key) {\n",
              "          const quickchartButtonEl =\n",
              "            document.querySelector('#' + key + ' button');\n",
              "          quickchartButtonEl.disabled = true;  // To prevent multiple clicks.\n",
              "          quickchartButtonEl.classList.add('colab-df-spinner');\n",
              "          try {\n",
              "            const charts = await google.colab.kernel.invokeFunction(\n",
              "                'suggestCharts', [key], {});\n",
              "          } catch (error) {\n",
              "            console.error('Error during call to suggestCharts:', error);\n",
              "          }\n",
              "          quickchartButtonEl.classList.remove('colab-df-spinner');\n",
              "          quickchartButtonEl.classList.add('colab-df-quickchart-complete');\n",
              "        }\n",
              "        (() => {\n",
              "          let quickchartButtonEl =\n",
              "            document.querySelector('#df-7af3556e-d3b9-4a4e-86b7-4683a273d401 button');\n",
              "          quickchartButtonEl.style.display =\n",
              "            google.colab.kernel.accessAllowed ? 'block' : 'none';\n",
              "        })();\n",
              "      </script>\n",
              "    </div>\n",
              "\n",
              "    </div>\n",
              "  </div>\n"
            ],
            "application/vnd.google.colaboratory.intrinsic+json": {
              "type": "dataframe",
              "variable_name": "df",
              "summary": "{\n  \"name\": \"df\",\n  \"rows\": 100000,\n  \"fields\": [\n    {\n      \"column\": \"CustomerID\",\n      \"properties\": {\n        \"dtype\": \"number\",\n        \"std\": 288460,\n        \"min\": 14,\n        \"max\": 999997,\n        \"num_unique_values\": 95215,\n        \"samples\": [\n          401417,\n          282329,\n          821685\n        ],\n        \"semantic_type\": \"\",\n        \"description\": \"\"\n      }\n    },\n    {\n      \"column\": \"ProductID\",\n      \"properties\": {\n        \"dtype\": \"category\",\n        \"num_unique_values\": 4,\n        \"samples\": [\n          \"A\",\n          \"B\",\n          \"C\"\n        ],\n        \"semantic_type\": \"\",\n        \"description\": \"\"\n      }\n    },\n    {\n      \"column\": \"Quantity\",\n      \"properties\": {\n        \"dtype\": \"number\",\n        \"std\": 2,\n        \"min\": 1,\n        \"max\": 9,\n        \"num_unique_values\": 9,\n        \"samples\": [\n          1,\n          4,\n          6\n        ],\n        \"semantic_type\": \"\",\n        \"description\": \"\"\n      }\n    },\n    {\n      \"column\": \"Price\",\n      \"properties\": {\n        \"dtype\": \"number\",\n        \"std\": 25.971566969856156,\n        \"min\": 10.00043007,\n        \"max\": 99.99928381,\n        \"num_unique_values\": 100000,\n        \"samples\": [\n          39.43546965,\n          30.7250779,\n          52.49121716\n        ],\n        \"semantic_type\": \"\",\n        \"description\": \"\"\n      }\n    },\n    {\n      \"column\": \"TransactionDate\",\n      \"properties\": {\n        \"dtype\": \"object\",\n        \"num_unique_values\": 91025,\n        \"samples\": [\n          \"7/15/2023 17:54\",\n          \"12/28/2023 12:28\",\n          \"7/8/2023 8:48\"\n        ],\n        \"semantic_type\": \"\",\n        \"description\": \"\"\n      }\n    },\n    {\n      \"column\": \"PaymentMethod\",\n      \"properties\": {\n        \"dtype\": \"category\",\n        \"num_unique_values\": 4,\n        \"samples\": [\n          \"PayPal\",\n          \"Credit Card\",\n          \"Cash\"\n        ],\n        \"semantic_type\": \"\",\n        \"description\": \"\"\n      }\n    },\n    {\n      \"column\": \"StoreLocation\",\n      \"properties\": {\n        \"dtype\": \"string\",\n        \"num_unique_values\": 100000,\n        \"samples\": [\n          \"74456 Hannah Corners\\nKellyshire, MT 56421\",\n          \"7232 Gregory Lake\\nTerrellmouth, MS 28977\",\n          \"462 Stephanie Freeway\\nOdonnellview, PW 86506\"\n        ],\n        \"semantic_type\": \"\",\n        \"description\": \"\"\n      }\n    },\n    {\n      \"column\": \"ProductCategory\",\n      \"properties\": {\n        \"dtype\": \"category\",\n        \"num_unique_values\": 4,\n        \"samples\": [\n          \"Home Decor\",\n          \"Clothing\",\n          \"Books\"\n        ],\n        \"semantic_type\": \"\",\n        \"description\": \"\"\n      }\n    },\n    {\n      \"column\": \"DiscountApplied(%)\",\n      \"properties\": {\n        \"dtype\": \"number\",\n        \"std\": 5.779533503148215,\n        \"min\": 4.6e-05,\n        \"max\": 19.99958523,\n        \"num_unique_values\": 100000,\n        \"samples\": [\n          4.133846107,\n          10.1913593,\n          11.40155684\n        ],\n        \"semantic_type\": \"\",\n        \"description\": \"\"\n      }\n    },\n    {\n      \"column\": \"TotalAmount\",\n      \"properties\": {\n        \"dtype\": \"number\",\n        \"std\": 184.5547920087452,\n        \"min\": 8.274824903,\n        \"max\": 896.1412419,\n        \"num_unique_values\": 99998,\n        \"samples\": [\n          83.8211625,\n          446.6358014,\n          298.8721042\n        ],\n        \"semantic_type\": \"\",\n        \"description\": \"\"\n      }\n    }\n  ]\n}"
            }
          },
          "metadata": {},
          "execution_count": 46
        }
      ]
    },
    {
      "cell_type": "code",
      "source": [
        "#check for null values\n",
        "df.isnull().sum()"
      ],
      "metadata": {
        "colab": {
          "base_uri": "https://localhost:8080/",
          "height": 398
        },
        "id": "mp6p8llHMmT6",
        "outputId": "438a7c27-b830-44d4-aea8-12ebec72e9db"
      },
      "execution_count": null,
      "outputs": [
        {
          "output_type": "execute_result",
          "data": {
            "text/plain": [
              "CustomerID            0\n",
              "ProductID             0\n",
              "Quantity              0\n",
              "Price                 0\n",
              "TransactionDate       0\n",
              "PaymentMethod         0\n",
              "StoreLocation         0\n",
              "ProductCategory       0\n",
              "DiscountApplied(%)    0\n",
              "TotalAmount           0\n",
              "dtype: int64"
            ],
            "text/html": [
              "<div>\n",
              "<style scoped>\n",
              "    .dataframe tbody tr th:only-of-type {\n",
              "        vertical-align: middle;\n",
              "    }\n",
              "\n",
              "    .dataframe tbody tr th {\n",
              "        vertical-align: top;\n",
              "    }\n",
              "\n",
              "    .dataframe thead th {\n",
              "        text-align: right;\n",
              "    }\n",
              "</style>\n",
              "<table border=\"1\" class=\"dataframe\">\n",
              "  <thead>\n",
              "    <tr style=\"text-align: right;\">\n",
              "      <th></th>\n",
              "      <th>0</th>\n",
              "    </tr>\n",
              "  </thead>\n",
              "  <tbody>\n",
              "    <tr>\n",
              "      <th>CustomerID</th>\n",
              "      <td>0</td>\n",
              "    </tr>\n",
              "    <tr>\n",
              "      <th>ProductID</th>\n",
              "      <td>0</td>\n",
              "    </tr>\n",
              "    <tr>\n",
              "      <th>Quantity</th>\n",
              "      <td>0</td>\n",
              "    </tr>\n",
              "    <tr>\n",
              "      <th>Price</th>\n",
              "      <td>0</td>\n",
              "    </tr>\n",
              "    <tr>\n",
              "      <th>TransactionDate</th>\n",
              "      <td>0</td>\n",
              "    </tr>\n",
              "    <tr>\n",
              "      <th>PaymentMethod</th>\n",
              "      <td>0</td>\n",
              "    </tr>\n",
              "    <tr>\n",
              "      <th>StoreLocation</th>\n",
              "      <td>0</td>\n",
              "    </tr>\n",
              "    <tr>\n",
              "      <th>ProductCategory</th>\n",
              "      <td>0</td>\n",
              "    </tr>\n",
              "    <tr>\n",
              "      <th>DiscountApplied(%)</th>\n",
              "      <td>0</td>\n",
              "    </tr>\n",
              "    <tr>\n",
              "      <th>TotalAmount</th>\n",
              "      <td>0</td>\n",
              "    </tr>\n",
              "  </tbody>\n",
              "</table>\n",
              "</div><br><label><b>dtype:</b> int64</label>"
            ]
          },
          "metadata": {},
          "execution_count": 47
        }
      ]
    },
    {
      "cell_type": "code",
      "source": [
        "#fill null values\n",
        "df.fillna({'DiscountApplied(%)':0}, inplace=True)\n",
        "df.fillna({'ProductCategory':'Books'}, inplace=True)\n",
        "df.fillna({'TotalAmount':0},inplace=True)\n",
        "df.isnull().sum()"
      ],
      "metadata": {
        "colab": {
          "base_uri": "https://localhost:8080/",
          "height": 398
        },
        "id": "Wm2DAe57Yvxk",
        "outputId": "4aa163c8-184a-4d31-ac7d-c432dcbaf1de"
      },
      "execution_count": null,
      "outputs": [
        {
          "output_type": "execute_result",
          "data": {
            "text/plain": [
              "CustomerID            0\n",
              "ProductID             0\n",
              "Quantity              0\n",
              "Price                 0\n",
              "TransactionDate       0\n",
              "PaymentMethod         0\n",
              "StoreLocation         0\n",
              "ProductCategory       0\n",
              "DiscountApplied(%)    0\n",
              "TotalAmount           0\n",
              "dtype: int64"
            ],
            "text/html": [
              "<div>\n",
              "<style scoped>\n",
              "    .dataframe tbody tr th:only-of-type {\n",
              "        vertical-align: middle;\n",
              "    }\n",
              "\n",
              "    .dataframe tbody tr th {\n",
              "        vertical-align: top;\n",
              "    }\n",
              "\n",
              "    .dataframe thead th {\n",
              "        text-align: right;\n",
              "    }\n",
              "</style>\n",
              "<table border=\"1\" class=\"dataframe\">\n",
              "  <thead>\n",
              "    <tr style=\"text-align: right;\">\n",
              "      <th></th>\n",
              "      <th>0</th>\n",
              "    </tr>\n",
              "  </thead>\n",
              "  <tbody>\n",
              "    <tr>\n",
              "      <th>CustomerID</th>\n",
              "      <td>0</td>\n",
              "    </tr>\n",
              "    <tr>\n",
              "      <th>ProductID</th>\n",
              "      <td>0</td>\n",
              "    </tr>\n",
              "    <tr>\n",
              "      <th>Quantity</th>\n",
              "      <td>0</td>\n",
              "    </tr>\n",
              "    <tr>\n",
              "      <th>Price</th>\n",
              "      <td>0</td>\n",
              "    </tr>\n",
              "    <tr>\n",
              "      <th>TransactionDate</th>\n",
              "      <td>0</td>\n",
              "    </tr>\n",
              "    <tr>\n",
              "      <th>PaymentMethod</th>\n",
              "      <td>0</td>\n",
              "    </tr>\n",
              "    <tr>\n",
              "      <th>StoreLocation</th>\n",
              "      <td>0</td>\n",
              "    </tr>\n",
              "    <tr>\n",
              "      <th>ProductCategory</th>\n",
              "      <td>0</td>\n",
              "    </tr>\n",
              "    <tr>\n",
              "      <th>DiscountApplied(%)</th>\n",
              "      <td>0</td>\n",
              "    </tr>\n",
              "    <tr>\n",
              "      <th>TotalAmount</th>\n",
              "      <td>0</td>\n",
              "    </tr>\n",
              "  </tbody>\n",
              "</table>\n",
              "</div><br><label><b>dtype:</b> int64</label>"
            ]
          },
          "metadata": {},
          "execution_count": 48
        }
      ]
    },
    {
      "cell_type": "code",
      "source": [
        "#check for duplicacy\n",
        "df.duplicated().sum()"
      ],
      "metadata": {
        "colab": {
          "base_uri": "https://localhost:8080/"
        },
        "id": "TfiuCZ00Mzhz",
        "outputId": "0b882e56-7f3f-4057-b5c5-add1bc0df668"
      },
      "execution_count": null,
      "outputs": [
        {
          "output_type": "execute_result",
          "data": {
            "text/plain": [
              "np.int64(0)"
            ]
          },
          "metadata": {},
          "execution_count": 49
        }
      ]
    },
    {
      "cell_type": "code",
      "source": [
        "#group by payment method\n",
        "method_df=df.groupby('PaymentMethod')['ProductID'].count()\n",
        "print (method_df)"
      ],
      "metadata": {
        "colab": {
          "base_uri": "https://localhost:8080/"
        },
        "id": "5BsMvVR8NB4V",
        "outputId": "ae99f079-84a4-4751-ddae-7783553bf32c"
      },
      "execution_count": null,
      "outputs": [
        {
          "output_type": "stream",
          "name": "stdout",
          "text": [
            "PaymentMethod\n",
            "Cash           25008\n",
            "Credit Card    25034\n",
            "Debit Card     24891\n",
            "PayPal         25067\n",
            "Name: ProductID, dtype: int64\n"
          ]
        }
      ]
    },
    {
      "cell_type": "code",
      "source": [
        "#piechart for payment method\n",
        "method_df.plot(kind='pie', figsize=(6,6))\n",
        "plt.title(\"Share of Payment Methods\", fontsize=14, fontweight='bold')\n",
        "plt.show()"
      ],
      "metadata": {
        "colab": {
          "base_uri": "https://localhost:8080/",
          "height": 522
        },
        "id": "TUiXYcGcN48_",
        "outputId": "88fa38d0-66d9-44a2-9073-b895fcb1be1a"
      },
      "execution_count": null,
      "outputs": [
        {
          "output_type": "display_data",
          "data": {
            "text/plain": [
              "<Figure size 600x600 with 1 Axes>"
            ],
            "image/png": "[encoded data removed]"
          },
          "metadata": {}
        }
      ]
    },
    {
      "cell_type": "code",
      "source": [
        "#quantities of different products traded\n",
        "product_df=df.groupby('ProductCategory')['Quantity'].sum()\n",
        "product_df['percent']=round(product_df/product_df.sum(),2)*100\n",
        "print(product_df.percent)"
      ],
      "metadata": {
        "colab": {
          "base_uri": "https://localhost:8080/"
        },
        "id": "4RkCWvHBRAbN",
        "outputId": "fde2cf47-0e8e-4b50-aecc-ae3790ca0d1b"
      },
      "execution_count": null,
      "outputs": [
        {
          "output_type": "stream",
          "name": "stdout",
          "text": [
            "ProductCategory\n",
            "Books          25.0\n",
            "Clothing       25.0\n",
            "Electronics    25.0\n",
            "Home Decor     25.0\n",
            "Name: Quantity, dtype: float64\n"
          ]
        }
      ]
    },
    {
      "cell_type": "code",
      "source": [
        "#find the median and highest price\n",
        "median_price= df['Price'].median()\n",
        "print(\"Median Price \",median_price)\n",
        "highest_price=df['Price'].max()\n",
        "print(\"Highest Price \",highest_price)"
      ],
      "metadata": {
        "id": "JdAKd3rVPdEk",
        "colab": {
          "base_uri": "https://localhost:8080/"
        },
        "outputId": "1da9fb3d-36c6-4243-9918-9a8d03adc059"
      },
      "execution_count": null,
      "outputs": [
        {
          "output_type": "stream",
          "name": "stdout",
          "text": [
            "Median Price  55.077678885\n",
            "Highest Price  99.99928381\n"
          ]
        }
      ]
    },
    {
      "cell_type": "code",
      "source": [
        "#maximum discount\n",
        "discount_df=df.groupby('ProductCategory')['DiscountApplied(%)'].max()\n",
        "print(discount_df)"
      ],
      "metadata": {
        "colab": {
          "base_uri": "https://localhost:8080/"
        },
        "id": "qzdoHP4KvDS2",
        "outputId": "5eb53f87-e757-406b-8d49-c963efb750e8"
      },
      "execution_count": null,
      "outputs": [
        {
          "output_type": "stream",
          "name": "stdout",
          "text": [
            "ProductCategory\n",
            "Books          19.999585\n",
            "Clothing       19.998331\n",
            "Electronics    19.999501\n",
            "Home Decor     19.999555\n",
            "Name: DiscountApplied(%), dtype: float64\n"
          ]
        }
      ]
    },
    {
      "cell_type": "code",
      "source": [
        "#Discount greater than 10%\n",
        "dis_df=df[df['DiscountApplied(%)']>10]\n",
        "print(dis_df)"
      ],
      "metadata": {
        "id": "C05AQWIawQjK",
        "colab": {
          "base_uri": "https://localhost:8080/"
        },
        "outputId": "69dd5d7a-5d12-49c4-d86b-55847d28324f"
      },
      "execution_count": null,
      "outputs": [
        {
          "output_type": "stream",
          "name": "stdout",
          "text": [
            "       CustomerID ProductID  Quantity      Price   TransactionDate  \\\n",
            "0          109318         C         7  80.079844  12/26/2023 12:32   \n",
            "1          993229         C         4  75.195229     8/5/2023 0:00   \n",
            "2          579675         A         8  31.528816   3/11/2024 18:51   \n",
            "5          463050         D         3  54.093152    8/15/2023 4:24   \n",
            "6          888163         D         7  13.121937   12/26/2023 5:32   \n",
            "...           ...       ...       ...        ...               ...   \n",
            "99993      248780         B         4  92.839338     6/3/2023 3:53   \n",
            "99994      877546         A         5  53.600296    6/29/2023 3:36   \n",
            "99995      726461         A         2  56.078258   7/17/2023 16:59   \n",
            "99997      887304         B         4  72.385564    8/25/2023 7:59   \n",
            "99998      326401         C         5  66.542239    2/5/2024 19:45   \n",
            "\n",
            "      PaymentMethod                                      StoreLocation  \\\n",
            "0              Cash            176 Andrew Cliffs\\nBaileyfort, HI 93354   \n",
            "1              Cash  11635 William Well Suite 809\\nEast Kara, MT 19483   \n",
            "2              Cash  910 Mendez Ville Suite 909\\nPort Lauraland, MO...   \n",
            "5              Cash   8492 Jonathan Drive\\nNorth Robertshire, TN 67532   \n",
            "6            PayPal                         USNV Harrell\\nFPO AA 62814   \n",
            "...             ...                                                ...   \n",
            "99993    Debit Card    4336 Steven Brook\\nEast Nicholasville, MH 41640   \n",
            "99994          Cash    97357 Kevin Plaza\\nEast Christinaport, ND 35949   \n",
            "99995   Credit Card  3632 Darren Station Apt. 553\\nEricaborough, RI...   \n",
            "99997   Credit Card       50653 Kara Lakes\\nStephanieborough, RI 94492   \n",
            "99998        PayPal  18756 Mcfarland Way Suite 866\\nBarnettside, PR...   \n",
            "\n",
            "      ProductCategory  DiscountApplied(%)  TotalAmount  \n",
            "0               Books           18.677100   455.862764  \n",
            "1          Home Decor           14.121365   258.306546  \n",
            "2               Books           15.943701   212.015651  \n",
            "5         Electronics           10.888768   144.609223  \n",
            "6            Clothing           16.295127    76.885907  \n",
            "...               ...                 ...          ...  \n",
            "99993      Home Decor           13.583261   320.914915  \n",
            "99994        Clothing           18.832064   217.531271  \n",
            "99995        Clothing           18.345145    91.581240  \n",
            "99997        Clothing           17.423979   239.092472  \n",
            "99998     Electronics           14.345018   284.983717  \n",
            "\n",
            "[50138 rows x 10 columns]\n"
          ]
        }
      ]
    },
    {
      "cell_type": "code",
      "source": [
        "# percentange of products discounted above 10%\n",
        "above= dis_df['Quantity'].count()\n",
        "below=(df['Quantity'].count())-above\n",
        "print(round(above/df['Quantity'].count(),2)*100,'% of products have discount above 10%')"
      ],
      "metadata": {
        "colab": {
          "base_uri": "https://localhost:8080/"
        },
        "id": "RUETyFjwWGZE",
        "outputId": "d82376ba-3574-4c0c-b594-1cce3b25b924"
      },
      "execution_count": null,
      "outputs": [
        {
          "output_type": "stream",
          "name": "stdout",
          "text": [
            "50.0 % of products have discount above 10%\n"
          ]
        }
      ]
    },
    {
      "cell_type": "code",
      "source": [
        "df.info()"
      ],
      "metadata": {
        "colab": {
          "base_uri": "https://localhost:8080/"
        },
        "id": "8mMEIPzLcA9b",
        "outputId": "ef62a52e-b94d-4e61-94f4-bb489ca09329"
      },
      "execution_count": null,
      "outputs": [
        {
          "output_type": "stream",
          "name": "stdout",
          "text": [
            "<class 'pandas.core.frame.DataFrame'>\n",
            "RangeIndex: 100000 entries, 0 to 99999\n",
            "Data columns (total 10 columns):\n",
            " #   Column              Non-Null Count   Dtype  \n",
            "---  ------              --------------   -----  \n",
            " 0   CustomerID          100000 non-null  int64  \n",
            " 1   ProductID           100000 non-null  object \n",
            " 2   Quantity            100000 non-null  int64  \n",
            " 3   Price               100000 non-null  float64\n",
            " 4   TransactionDate     100000 non-null  object \n",
            " 5   PaymentMethod       100000 non-null  object \n",
            " 6   StoreLocation       100000 non-null  object \n",
            " 7   ProductCategory     100000 non-null  object \n",
            " 8   DiscountApplied(%)  100000 non-null  float64\n",
            " 9   TotalAmount         100000 non-null  float64\n",
            "dtypes: float64(3), int64(2), object(5)\n",
            "memory usage: 7.6+ MB\n"
          ]
        }
      ]
    },
    {
      "cell_type": "code",
      "source": [
        "#covert data type from object to datetime\n",
        "df['TransactionDate']=pd.to_datetime(df['TransactionDate'], dayfirst=True, errors='coerce')\n",
        "df.info()"
      ],
      "metadata": {
        "colab": {
          "base_uri": "https://localhost:8080/"
        },
        "id": "JoPvnLbibYcx",
        "outputId": "13171f7c-9913-4604-cbfd-800e8307c87c"
      },
      "execution_count": null,
      "outputs": [
        {
          "output_type": "stream",
          "name": "stdout",
          "text": [
            "<class 'pandas.core.frame.DataFrame'>\n",
            "RangeIndex: 100000 entries, 0 to 99999\n",
            "Data columns (total 10 columns):\n",
            " #   Column              Non-Null Count   Dtype         \n",
            "---  ------              --------------   -----         \n",
            " 0   CustomerID          100000 non-null  int64         \n",
            " 1   ProductID           100000 non-null  object        \n",
            " 2   Quantity            100000 non-null  int64         \n",
            " 3   Price               100000 non-null  float64       \n",
            " 4   TransactionDate     100000 non-null  datetime64[ns]\n",
            " 5   PaymentMethod       100000 non-null  object        \n",
            " 6   StoreLocation       100000 non-null  object        \n",
            " 7   ProductCategory     100000 non-null  object        \n",
            " 8   DiscountApplied(%)  100000 non-null  float64       \n",
            " 9   TotalAmount         100000 non-null  float64       \n",
            "dtypes: datetime64[ns](1), float64(3), int64(2), object(4)\n",
            "memory usage: 7.6+ MB\n"
          ]
        },
        {
          "output_type": "stream",
          "name": "stderr",
          "text": [
            "/tmp/ipython-input-60-2017704304.py:2: UserWarning: Parsing dates in %m/%d/%Y %H:%M format when dayfirst=True was specified. Pass `dayfirst=False` or specify a format to silence this warning.\n",
            "  df['TransactionDate']=pd.to_datetime(df['TransactionDate'], dayfirst=True, errors='coerce')\n"
          ]
        }
      ]
    },
    {
      "cell_type": "code",
      "source": [
        "#transactions before 12/31/2023\n",
        "cutoff_date=pd.Timestamp('12/31/2023')\n",
        "date_df=df[df['TransactionDate']<cutoff_date]\n",
        "print(date_df)"
      ],
      "metadata": {
        "colab": {
          "base_uri": "https://localhost:8080/"
        },
        "id": "ZbFyY1SKdWlV",
        "outputId": "87922910-e30e-4325-f066-b65330c1cc63"
      },
      "execution_count": null,
      "outputs": [
        {
          "output_type": "stream",
          "name": "stdout",
          "text": [
            "       CustomerID ProductID  Quantity      Price     TransactionDate  \\\n",
            "0          109318         C         7  80.079844 2023-12-26 12:32:00   \n",
            "1          993229         C         4  75.195229 2023-08-05 00:00:00   \n",
            "3          799826         D         5  98.880218 2023-10-27 22:00:00   \n",
            "4          121413         A         7  93.188512 2023-12-22 11:38:00   \n",
            "5          463050         D         3  54.093152 2023-08-15 04:24:00   \n",
            "...           ...       ...       ...        ...                 ...   \n",
            "99993      248780         B         4  92.839338 2023-06-03 03:53:00   \n",
            "99994      877546         A         5  53.600296 2023-06-29 03:36:00   \n",
            "99995      726461         A         2  56.078258 2023-07-17 16:59:00   \n",
            "99996      328056         A         6  88.516406 2023-05-30 09:04:00   \n",
            "99997      887304         B         4  72.385564 2023-08-25 07:59:00   \n",
            "\n",
            "      PaymentMethod                                      StoreLocation  \\\n",
            "0              Cash            176 Andrew Cliffs\\nBaileyfort, HI 93354   \n",
            "1              Cash  11635 William Well Suite 809\\nEast Kara, MT 19483   \n",
            "3            PayPal  87522 Sharon Corners Suite 500\\nLake Tammy, MO...   \n",
            "4              Cash   0070 Michelle Island Suite 143\\nHoland, VA 80142   \n",
            "5              Cash   8492 Jonathan Drive\\nNorth Robertshire, TN 67532   \n",
            "...             ...                                                ...   \n",
            "99993    Debit Card    4336 Steven Brook\\nEast Nicholasville, MH 41640   \n",
            "99994          Cash    97357 Kevin Plaza\\nEast Christinaport, ND 35949   \n",
            "99995   Credit Card  3632 Darren Station Apt. 553\\nEricaborough, RI...   \n",
            "99996   Credit Card            821 Taylor Shoals\\nEvansville, IL 70845   \n",
            "99997   Credit Card       50653 Kara Lakes\\nStephanieborough, RI 94492   \n",
            "\n",
            "      ProductCategory  DiscountApplied(%)  TotalAmount  \n",
            "0               Books           18.677100   455.862764  \n",
            "1          Home Decor           14.121365   258.306546  \n",
            "3               Books            6.686337   461.343769  \n",
            "4         Electronics            4.030096   626.030484  \n",
            "5         Electronics           10.888768   144.609223  \n",
            "...               ...                 ...          ...  \n",
            "99993      Home Decor           13.583261   320.914915  \n",
            "99994        Clothing           18.832064   217.531271  \n",
            "99995        Clothing           18.345145    91.581240  \n",
            "99996     Electronics            3.995541   509.878179  \n",
            "99997        Clothing           17.423979   239.092472  \n",
            "\n",
            "[67000 rows x 10 columns]\n"
          ]
        }
      ]
    }
  ]
}